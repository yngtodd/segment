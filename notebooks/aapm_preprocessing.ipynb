{
 "cells": [
  {
   "cell_type": "code",
   "execution_count": 17,
   "metadata": {},
   "outputs": [],
   "source": [
    "import os\n",
    "import sys\n",
    "import glob\n",
    "\n",
    "import torch\n",
    "import numpy as np\n",
    "import pydicom as dicom\n",
    "\n",
    "from skimage.draw import polygon\n",
    "import matplotlib.pyplot as plt\n",
    "\n",
    "%matplotlib inline"
   ]
  },
  {
   "cell_type": "code",
   "execution_count": 18,
   "metadata": {},
   "outputs": [],
   "source": [
    "def read_structure(structure):\n",
    "    contours = []\n",
    "    for i, ri in enumerate(structure.ROIContourSequence):\n",
    "        contour = {}\n",
    "        #return ri\n",
    "        contour['color'] = ri.ROIDisplayColor\n",
    "        contour['number'] = ri.ReferencedROINumber\n",
    "        #contour['name'] = ri.ROIName\n",
    "        #assert contour['number'] == ri.ROINumber\n",
    "        contour['contours'] = [s.ContourData for s in ri.ContourSequence]\n",
    "        contours.append(contour)\n",
    "    return contours"
   ]
  },
  {
   "cell_type": "code",
   "execution_count": 19,
   "metadata": {},
   "outputs": [],
   "source": [
    "def get_mask(contours, slices):\n",
    "    z = np.around(np.array([float(s.ImagePositionPatient[2]) for s in slices]), 1)\n",
    "    pos_r = slices[0].ImagePositionPatient[1]\n",
    "    spacing_r = slices[0].PixelSpacing[1]\n",
    "    pos_c = slices[0].ImagePositionPatient[0]\n",
    "    spacing_c = slices[0].PixelSpacing[0]\n",
    "\n",
    "    label = np.zeros_like(image, dtype=np.uint8)\n",
    "    for con in contours:\n",
    "        num = int(con['number'])\n",
    "        for c in con['contours']:\n",
    "            nodes = np.array(c).reshape((-1, 3))\n",
    "            assert np.amax(np.abs(np.diff(nodes[:, 2]))) == 0\n",
    "            #z_index = z.index(nodes[0, 2])\n",
    "            try:\n",
    "                z_index = np.where(z == float(np.around(nodes[0, 2], 1)))[0] # fix in later comments -JH\n",
    "            except:\n",
    "                print(z)\n",
    "                print(nodes[0,2])\n",
    "                raise\n",
    "            r = (nodes[:, 1] - pos_r) / spacing_r\n",
    "            c = (nodes[:, 0] - pos_c) / spacing_c\n",
    "            rr, cc = polygon(r, c)\n",
    "            label[rr, cc, z_index] = num\n",
    "\n",
    "    colors = tuple(np.array([con['color'] for con in contours]) / 255.0)\n",
    "    return label, colors"
   ]
  },
  {
   "cell_type": "code",
   "execution_count": 20,
   "metadata": {},
   "outputs": [],
   "source": [
    "train_data_path = '/mnt/USB/AAPM17CTSegChallenge/LCTSC/DOI' #\"./DOI\" # point to our data -JH\n",
    "preprocessing_imgdir = \"/home/ygx/data/aapm17/preprocessing/imgs\"\n",
    "preprocessing_labeldir = \"/home/ygx/data/aapm17/preprocessing/labels\""
   ]
  },
  {
   "cell_type": "code",
   "execution_count": 21,
   "metadata": {},
   "outputs": [
    {
     "name": "stdout",
     "output_type": "stream",
     "text": [
      "First Patient: /mnt/USB/AAPM17CTSegChallenge/LCTSC/DOI/LCTSC-Train-S1-010\n"
     ]
    }
   ],
   "source": [
    "train_patients = [os.path.join(train_data_path, name)\n",
    "    for name in os.listdir(train_data_path) if os.path.isdir(os.path.join(train_data_path, name))]\n",
    "\n",
    "print(f'First Patient: {train_patients[0]}')"
   ]
  },
  {
   "cell_type": "code",
   "execution_count": 36,
   "metadata": {},
   "outputs": [
    {
     "name": "stdout",
     "output_type": "stream",
     "text": [
      "Patient 0: /mnt/USB/AAPM17CTSegChallenge/LCTSC/DOI/LCTSC-Train-S1-010\n",
      "label: (512, 512, 122)\n",
      "color: <class 'tuple'>, len: 5, First index: [0.85490196 0.64705882 0.1254902 ]\n",
      "Integer label: (512, 512, 122)\n"
     ]
    }
   ],
   "source": [
    "for i, patient in enumerate(train_patients):\n",
    "    print(f\"Patient {i}: {patient}\")\n",
    "    image = None\n",
    "    slices = None\n",
    "    contours = None\n",
    "    for subdir, dirs, files in os.walk(patient):\n",
    "        dcms = glob.glob(os.path.join(subdir, \"*.dcm\"))\n",
    "        if len(dcms) == 1:\n",
    "            structure = dicom.read_file(os.path.join(subdir, files[0]))\n",
    "            contours = read_structure(structure)\n",
    "        elif len(dcms) > 1:\n",
    "            slices = [dicom.read_file(dcm) for dcm in dcms]\n",
    "            slices.sort(key = lambda x: float(x.ImagePositionPatient[2]))\n",
    "            image = np.stack([s.pixel_array for s in slices], axis=-1)\n",
    "    if image is not None:\n",
    "        torch.save(torch.Tensor(image.astype(np.float32)), f\"{preprocessing_imgdir}/image_{i}.pth\")\n",
    "    if contours is not None:\n",
    "        label, colors = get_mask(contours, slices)\n",
    "        print(f'label: {label.shape}')\n",
    "        print(f'color: {type(colors)}, len: {len(colors)}, First index: {colors[0]}')\n",
    "        label_int = label.astype(np.uint8)\n",
    "        print(f'Integer label: {label_int.shape}')\n",
    "        torch.save(torch.Tensor(label_int),   f\"{preprocessing_labeldir}/label_{i}.pth\")\n",
    "    break"
   ]
  },
  {
   "cell_type": "code",
   "execution_count": 40,
   "metadata": {},
   "outputs": [],
   "source": [
    "x = np.array([0., 1.5, .1])"
   ]
  },
  {
   "cell_type": "code",
   "execution_count": 41,
   "metadata": {},
   "outputs": [
    {
     "data": {
      "text/plain": [
       "array([0. , 1.5, 0.1])"
      ]
     },
     "execution_count": 41,
     "metadata": {},
     "output_type": "execute_result"
    }
   ],
   "source": [
    "x"
   ]
  },
  {
   "cell_type": "code",
   "execution_count": 42,
   "metadata": {},
   "outputs": [
    {
     "data": {
      "text/plain": [
       "array([0, 1, 0], dtype=uint64)"
      ]
     },
     "execution_count": 42,
     "metadata": {},
     "output_type": "execute_result"
    }
   ],
   "source": [
    "x.astype(np.uint)"
   ]
  },
  {
   "cell_type": "code",
   "execution_count": null,
   "metadata": {},
   "outputs": [],
   "source": []
  }
 ],
 "metadata": {
  "kernelspec": {
   "display_name": "Python 3",
   "language": "python",
   "name": "python3"
  },
  "language_info": {
   "codemirror_mode": {
    "name": "ipython",
    "version": 3
   },
   "file_extension": ".py",
   "mimetype": "text/x-python",
   "name": "python",
   "nbconvert_exporter": "python",
   "pygments_lexer": "ipython3",
   "version": "3.6.4"
  }
 },
 "nbformat": 4,
 "nbformat_minor": 2
}
