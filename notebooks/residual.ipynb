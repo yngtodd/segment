{
 "cells": [
  {
   "cell_type": "code",
   "execution_count": 1,
   "metadata": {},
   "outputs": [],
   "source": [
    "import torch\n",
    "\n",
    "from torch import nn\n",
    "import torch.nn.functional as F"
   ]
  },
  {
   "cell_type": "code",
   "execution_count": 2,
   "metadata": {},
   "outputs": [],
   "source": [
    "img = torch.randn(1, 1, 128, 128)"
   ]
  },
  {
   "cell_type": "code",
   "execution_count": 3,
   "metadata": {},
   "outputs": [],
   "source": [
    "# Quickly adding some API bits here.\n",
    "\n",
    "class Model(nn.Module):\n",
    "    \"\"\" Class representing sampleable neural network model \"\"\"\n",
    "\n",
    "    def num_params(self):\n",
    "        \"\"\" Get the number of model parameters. \"\"\"\n",
    "        return sum(p.numel() for p in self.parameters())\n",
    "\n",
    "    def summary(self, hashsummary=False):\n",
    "        print(self)\n",
    "        print(\"-\" * 80)\n",
    "        n_params = self.num_params()\n",
    "        print(f\"Number of model parameters: {n_params}\")\n",
    "        print(\"-\" * 80)\n",
    "\n",
    "        if hashsummary:\n",
    "            print('Hash Summary:')\n",
    "            for idx, hashvalue in enumerate(self.hashsummary()):\n",
    "                print(f\"{idx}: {hashvalue}\")\n",
    "\n",
    "    def hashsummary(self):\n",
    "        \"\"\" Print a model summary - checksums of each layer parameters \"\"\"\n",
    "        children = list(self.children())\n",
    "\n",
    "        result = []\n",
    "        for child in children:\n",
    "            result.extend(hashlib.sha256(x.detach().cpu().numpy().tobytes()).hexdigest() for x in child.parameters())\n",
    "\n",
    "        return result"
   ]
  },
  {
   "cell_type": "code",
   "execution_count": 438,
   "metadata": {},
   "outputs": [],
   "source": [
    "class ResidualBlock(nn.Module):\n",
    "    '''(conv => BN => ReLU) * 2'''\n",
    "    def __init__(self, in_ch, out_ch):\n",
    "        super(ResidualBlock, self).__init__()\n",
    "\n",
    "        self.conv = nn.Sequential(\n",
    "            nn.Conv2d(in_ch, out_ch, 3, padding=1),\n",
    "            nn.BatchNorm2d(out_ch),\n",
    "            nn.ReLU(inplace=True),\n",
    "            nn.Conv2d(out_ch, out_ch, 3, padding=1),\n",
    "            nn.BatchNorm2d(out_ch),\n",
    "        )\n",
    "\n",
    "    def forward(self, x):\n",
    "        residual = x\n",
    "        print(f'input: {x.shape}')\n",
    "        x = self.conv(x)\n",
    "        x += residual\n",
    "        return F.relu(x)\n",
    "\n",
    "\n",
    "class InConv(nn.Module):\n",
    "\n",
    "    def __init__(self, in_ch, out_ch):\n",
    "        super(InConv, self).__init__()\n",
    "        self.conv = ResidualBlock(in_ch, out_ch)\n",
    "\n",
    "    def forward(self, x):\n",
    "        return self.conv(x)\n",
    "\n",
    "\n",
    "class Down(nn.Module):\n",
    "\n",
    "    def __init__(self, in_ch, out_ch):\n",
    "        super(Down, self).__init__()\n",
    "        self.pool = nn.MaxPool2d(2)\n",
    "        self.block = ResidualBlock(in_ch, out_ch)\n",
    "\n",
    "    def forward(self, x):\n",
    "        x = self.block(x)\n",
    "        x = self.pool(x)\n",
    "        return x\n",
    "\n",
    "\n",
    "class Up(nn.Module):\n",
    "\n",
    "    def __init__(self, in_ch, out_ch):\n",
    "        super(Up, self).__init__()\n",
    "        self.upsample = nn.Upsample(scale_factor=2, mode='bilinear', align_corners=True) \n",
    "        self.block = ResidualBlock(in_ch, out_ch)\n",
    "\n",
    "    def forward(self, x):\n",
    "        x = self.upsample(x)\n",
    "        x = self.block(x)\n",
    "        return x\n",
    "\n",
    "\n",
    "class OutConv(nn.Module):\n",
    "\n",
    "    def __init__(self, in_ch, out_ch):\n",
    "        super(OutConv, self).__init__()\n",
    "        self.conv = nn.Conv2d(in_ch, out_ch, 1)\n",
    "\n",
    "    def forward(self, x):\n",
    "        return self.conv(x)\n",
    "\n",
    "\n",
    "class UNet2D(Model):\n",
    "\n",
    "    def __init__(self, n_channels, n_classes):\n",
    "        super(UNet2D, self).__init__()\n",
    "        self.inconv = InConv(n_channels, 128)\n",
    "        self.down1 = Down(128, 128)\n",
    "        self.down2 = Down(128, 128)\n",
    "        self.down3 = Down(128, 128)\n",
    "        self.down4 = Down(128, 128)\n",
    "        self.up1 = Up(128, 128)\n",
    "        self.up2 = Up(256, 256)\n",
    "        self.up3 = Up(384, 384)\n",
    "        self.up4 = Up(512, 512)\n",
    "        self.outconv = OutConv(512, n_classes)\n",
    "        \n",
    "    def concat_channels(self, x_cur, x_prev):\n",
    "        return torch.cat([x_cur, x_prev], dim=1)\n",
    "\n",
    "    def forward(self, x):\n",
    "        x = self.inconv(x)\n",
    "        x2 = self.down1(x)\n",
    "        x3 = self.down2(x2)\n",
    "        x4 = self.down3(x3)\n",
    "        x = self.down4(x4)\n",
    "        x = self.up1(x) \n",
    "        x = self.concat_channels(x, x4)\n",
    "        x = self.up2(x)\n",
    "        x = self.concat_channels(x, x3)\n",
    "        x = self.up3(x)\n",
    "        x = self.concat_channels(x, x2)\n",
    "        x = self.up4(x)\n",
    "        x = self.outconv(x)\n",
    "        x = torch.sigmoid(x)\n",
    "        return x"
   ]
  },
  {
   "cell_type": "markdown",
   "metadata": {},
   "source": [
    "### Residual Double Block"
   ]
  },
  {
   "cell_type": "code",
   "execution_count": 439,
   "metadata": {},
   "outputs": [],
   "source": [
    "model = UNet2D(1, 2)"
   ]
  },
  {
   "cell_type": "code",
   "execution_count": 440,
   "metadata": {},
   "outputs": [
    {
     "data": {
      "text/plain": [
       "10188162"
      ]
     },
     "execution_count": 440,
     "metadata": {},
     "output_type": "execute_result"
    }
   ],
   "source": [
    "model.num_params()"
   ]
  },
  {
   "cell_type": "code",
   "execution_count": 441,
   "metadata": {},
   "outputs": [
    {
     "name": "stdout",
     "output_type": "stream",
     "text": [
      "input: torch.Size([1, 1, 128, 128])\n",
      "input: torch.Size([1, 128, 128, 128])\n",
      "input: torch.Size([1, 128, 64, 64])\n",
      "input: torch.Size([1, 128, 32, 32])\n",
      "input: torch.Size([1, 128, 16, 16])\n",
      "input: torch.Size([1, 128, 16, 16])\n",
      "input: torch.Size([1, 256, 32, 32])\n",
      "input: torch.Size([1, 384, 64, 64])\n",
      "input: torch.Size([1, 512, 128, 128])\n"
     ]
    },
    {
     "data": {
      "text/plain": [
       "torch.Size([1, 2, 128, 128])"
      ]
     },
     "execution_count": 441,
     "metadata": {},
     "output_type": "execute_result"
    }
   ],
   "source": [
    "model(img).shape"
   ]
  },
  {
   "cell_type": "code",
   "execution_count": null,
   "metadata": {},
   "outputs": [],
   "source": []
  },
  {
   "cell_type": "code",
   "execution_count": null,
   "metadata": {},
   "outputs": [],
   "source": []
  }
 ],
 "metadata": {
  "kernelspec": {
   "display_name": "Python 3",
   "language": "python",
   "name": "python3"
  },
  "language_info": {
   "codemirror_mode": {
    "name": "ipython",
    "version": 3
   },
   "file_extension": ".py",
   "mimetype": "text/x-python",
   "name": "python",
   "nbconvert_exporter": "python",
   "pygments_lexer": "ipython3",
   "version": "3.7.1"
  }
 },
 "nbformat": 4,
 "nbformat_minor": 2
}
