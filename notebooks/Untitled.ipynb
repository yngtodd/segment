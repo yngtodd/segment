{
 "cells": [
  {
   "cell_type": "code",
   "execution_count": 6,
   "metadata": {},
   "outputs": [],
   "source": [
    "import torch\n",
    "from torch.utils.data import DataLoader\n",
    "from segment.data.utils import train_valid_split  \n",
    "\n",
    "from segment.data import IRCAD2D  "
   ]
  },
  {
   "cell_type": "code",
   "execution_count": 27,
   "metadata": {},
   "outputs": [
    {
     "name": "stderr",
     "output_type": "stream",
     "text": [
      "/home/ygx/segment/segment/data/ircad/ircad.py:135: UserWarning: To copy construct from a tensor, it is recommended to use sourceTensor.clone().detach() or sourceTensor.clone().detach().requires_grad_(True), rather than torch.tensor(sourceTensor).\n",
      "  masks = [torch.tensor(mask) for mask in masks]\n"
     ]
    },
    {
     "name": "stdout",
     "output_type": "stream",
     "text": [
      "CPU times: user 3min 55s, sys: 8.25 s, total: 4min 4s\n",
      "Wall time: 7min 4s\n"
     ]
    }
   ],
   "source": [
    "%time dataset = IRCAD2D('/raid/scratch/hinklejd/3D-IRCADb1', tissue='bone', binarymask=True) "
   ]
  },
  {
   "cell_type": "code",
   "execution_count": 28,
   "metadata": {},
   "outputs": [
    {
     "data": {
      "text/plain": [
       "2701"
      ]
     },
     "execution_count": 28,
     "metadata": {},
     "output_type": "execute_result"
    }
   ],
   "source": [
    "len(dataset)"
   ]
  },
  {
   "cell_type": "code",
   "execution_count": 5,
   "metadata": {},
   "outputs": [
    {
     "data": {
      "text/plain": [
       "torch.Size([512, 512])"
      ]
     },
     "execution_count": 5,
     "metadata": {},
     "output_type": "execute_result"
    }
   ],
   "source": [
    "dataset.masks[0].shape"
   ]
  },
  {
   "cell_type": "code",
   "execution_count": 7,
   "metadata": {},
   "outputs": [],
   "source": [
    "trainset, testset = train_valid_split(dataset)\n",
    "trainloader = DataLoader(trainset, batch_size=1)"
   ]
  },
  {
   "cell_type": "code",
   "execution_count": 9,
   "metadata": {},
   "outputs": [
    {
     "name": "stdout",
     "output_type": "stream",
     "text": [
      "Data: torch.Size([1, 512, 512]), Mask: torch.Size([1, 512, 512])\n",
      "Data: torch.Size([1, 512, 512]), Mask: torch.Size([1, 512, 512])\n",
      "Data: torch.Size([1, 512, 512]), Mask: torch.Size([1, 512, 512])\n",
      "Data: torch.Size([1, 512, 512]), Mask: torch.Size([1, 512, 512])\n",
      "Data: torch.Size([1, 512, 512]), Mask: torch.Size([1, 512, 512])\n",
      "Data: torch.Size([1, 512, 512]), Mask: torch.Size([1, 512, 512])\n"
     ]
    }
   ],
   "source": [
    "for idx, (data, mask) in enumerate(trainloader):\n",
    "    print(f'Data: {data.shape}, Mask: {mask.shape}')\n",
    "    if idx == 5:\n",
    "        break"
   ]
  },
  {
   "cell_type": "code",
   "execution_count": 14,
   "metadata": {},
   "outputs": [],
   "source": [
    "import os\n",
    "import pydicom\n",
    "from natsort import natsorted\n",
    "\n",
    "\n",
    "PATH = '/raid/scratch/hinklejd/3D-IRCADb1'"
   ]
  },
  {
   "cell_type": "code",
   "execution_count": 23,
   "metadata": {},
   "outputs": [],
   "source": [
    "patients = [os.path.join(PATH, patient) for patient in os.listdir(PATH)]\n",
    "\n",
    "all_dicoms = []\n",
    "for i in range(len(patients)):\n",
    "    dicompath = os.path.join(PATH, 'PATIENT_DICOM')\n",
    "    dicoms = [os.path.join(dicompath, img) for img in os.listdir(dicompath)]\n",
    "    dicoms = natsorted(dicoms)\n",
    "    all_dicoms.extend(dicoms)"
   ]
  },
  {
   "cell_type": "code",
   "execution_count": 24,
   "metadata": {},
   "outputs": [],
   "source": [
    "dicomfiles = [pydicom.read_file(dicom) for dicom in all_dicoms]"
   ]
  },
  {
   "cell_type": "code",
   "execution_count": 25,
   "metadata": {},
   "outputs": [
    {
     "data": {
      "text/plain": [
       "1419"
      ]
     },
     "execution_count": 25,
     "metadata": {},
     "output_type": "execute_result"
    }
   ],
   "source": [
    "len(dicomfiles)"
   ]
  },
  {
   "cell_type": "code",
   "execution_count": 26,
   "metadata": {},
   "outputs": [
    {
     "data": {
      "text/plain": [
       "2161"
      ]
     },
     "execution_count": 26,
     "metadata": {},
     "output_type": "execute_result"
    }
   ],
   "source": [
    "len(trainset)"
   ]
  },
  {
   "cell_type": "code",
   "execution_count": null,
   "metadata": {},
   "outputs": [],
   "source": []
  }
 ],
 "metadata": {
  "kernelspec": {
   "display_name": "Python 3",
   "language": "python",
   "name": "python3"
  },
  "language_info": {
   "codemirror_mode": {
    "name": "ipython",
    "version": 3
   },
   "file_extension": ".py",
   "mimetype": "text/x-python",
   "name": "python",
   "nbconvert_exporter": "python",
   "pygments_lexer": "ipython3",
   "version": "3.6.4"
  }
 },
 "nbformat": 4,
 "nbformat_minor": 2
}
