{
 "cells": [
  {
   "cell_type": "code",
   "execution_count": 1,
   "metadata": {},
   "outputs": [],
   "source": [
    "import os\n",
    "import torch\n",
    "\n",
    "from torch.utils.data import Dataset\n",
    "from torch.utils.data import DataLoader\n",
    "\n",
    "from segment.data.aapm_thoracic.aapm import AAPM\n",
    "from segment.data.aapm_thoracic.aapm import Patient"
   ]
  },
  {
   "cell_type": "code",
   "execution_count": 2,
   "metadata": {},
   "outputs": [],
   "source": [
    "PATH = '/home/ygx/data/aapm17/labeled'"
   ]
  },
  {
   "cell_type": "code",
   "execution_count": 3,
   "metadata": {},
   "outputs": [],
   "source": [
    "aapm = AAPM(PATH)"
   ]
  },
  {
   "cell_type": "code",
   "execution_count": 4,
   "metadata": {},
   "outputs": [],
   "source": [
    "loader = DataLoader(aapm, 1)"
   ]
  },
  {
   "cell_type": "code",
   "execution_count": 5,
   "metadata": {},
   "outputs": [
    {
     "name": "stdout",
     "output_type": "stream",
     "text": [
      "Image: torch.Size([1, 512, 512, 122]), Mask: torch.Size([1, 512, 512, 122])\n",
      "Image: torch.Size([1, 512, 512, 134]), Mask: torch.Size([1, 512, 512, 134])\n",
      "Image: torch.Size([1, 512, 512, 140]), Mask: torch.Size([1, 512, 512, 140])\n",
      "Image: torch.Size([1, 512, 512, 152]), Mask: torch.Size([1, 512, 512, 152])\n",
      "Image: torch.Size([1, 512, 512, 144]), Mask: torch.Size([1, 512, 512, 144])\n",
      "Image: torch.Size([1, 512, 512, 148]), Mask: torch.Size([1, 512, 512, 148])\n",
      "Image: torch.Size([1, 512, 512, 136]), Mask: torch.Size([1, 512, 512, 136])\n",
      "Image: torch.Size([1, 512, 512, 161]), Mask: torch.Size([1, 512, 512, 161])\n",
      "Image: torch.Size([1, 512, 512, 168]), Mask: torch.Size([1, 512, 512, 168])\n",
      "Image: torch.Size([1, 512, 512, 160]), Mask: torch.Size([1, 512, 512, 160])\n",
      "Image: torch.Size([1, 512, 512, 133]), Mask: torch.Size([1, 512, 512, 133])\n",
      "Image: torch.Size([1, 512, 512, 131]), Mask: torch.Size([1, 512, 512, 131])\n",
      "Image: torch.Size([1, 512, 512, 160]), Mask: torch.Size([1, 512, 512, 160])\n",
      "Image: torch.Size([1, 512, 512, 162]), Mask: torch.Size([1, 512, 512, 162])\n",
      "Image: torch.Size([1, 512, 512, 140]), Mask: torch.Size([1, 512, 512, 140])\n",
      "Image: torch.Size([1, 512, 512, 158]), Mask: torch.Size([1, 512, 512, 158])\n",
      "Image: torch.Size([1, 512, 512, 160]), Mask: torch.Size([1, 512, 512, 160])\n",
      "Image: torch.Size([1, 512, 512, 150]), Mask: torch.Size([1, 512, 512, 150])\n",
      "Image: torch.Size([1, 512, 512, 163]), Mask: torch.Size([1, 512, 512, 163])\n",
      "Image: torch.Size([1, 512, 512, 206]), Mask: torch.Size([1, 512, 512, 206])\n",
      "Image: torch.Size([1, 512, 512, 148]), Mask: torch.Size([1, 512, 512, 148])\n",
      "Image: torch.Size([1, 512, 512, 154]), Mask: torch.Size([1, 512, 512, 154])\n",
      "Image: torch.Size([1, 512, 512, 240]), Mask: torch.Size([1, 512, 512, 240])\n",
      "Image: torch.Size([1, 512, 512, 150]), Mask: torch.Size([1, 512, 512, 150])\n",
      "Image: torch.Size([1, 512, 512, 168]), Mask: torch.Size([1, 512, 512, 168])\n",
      "Image: torch.Size([1, 512, 512, 160]), Mask: torch.Size([1, 512, 512, 160])\n",
      "Image: torch.Size([1, 512, 512, 144]), Mask: torch.Size([1, 512, 512, 144])\n",
      "Image: torch.Size([1, 512, 512, 152]), Mask: torch.Size([1, 512, 512, 152])\n",
      "Image: torch.Size([1, 512, 512, 188]), Mask: torch.Size([1, 512, 512, 188])\n",
      "Image: torch.Size([1, 512, 512, 152]), Mask: torch.Size([1, 512, 512, 152])\n",
      "Image: torch.Size([1, 512, 512, 204]), Mask: torch.Size([1, 512, 512, 204])\n",
      "Image: torch.Size([1, 512, 512, 214]), Mask: torch.Size([1, 512, 512, 214])\n",
      "Image: torch.Size([1, 512, 512, 160]), Mask: torch.Size([1, 512, 512, 160])\n",
      "Image: torch.Size([1, 512, 512, 115]), Mask: torch.Size([1, 512, 512, 115])\n",
      "Image: torch.Size([1, 512, 512, 279]), Mask: torch.Size([1, 512, 512, 279])\n"
     ]
    }
   ],
   "source": [
    "for idx, (img, mask) in enumerate(loader):\n",
    "    print(f'Image: {img.shape}, Mask: {mask.shape}')"
   ]
  },
  {
   "cell_type": "code",
   "execution_count": null,
   "metadata": {},
   "outputs": [],
   "source": []
  }
 ],
 "metadata": {
  "kernelspec": {
   "display_name": "Python 3",
   "language": "python",
   "name": "python3"
  },
  "language_info": {
   "codemirror_mode": {
    "name": "ipython",
    "version": 3
   },
   "file_extension": ".py",
   "mimetype": "text/x-python",
   "name": "python",
   "nbconvert_exporter": "python",
   "pygments_lexer": "ipython3",
   "version": "3.6.4"
  }
 },
 "nbformat": 4,
 "nbformat_minor": 2
}
