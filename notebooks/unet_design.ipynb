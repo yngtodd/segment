{
 "cells": [
  {
   "cell_type": "code",
   "execution_count": 1,
   "metadata": {},
   "outputs": [],
   "source": [
    "import torch\n",
    "from torch import nn\n",
    "import torch.nn.functional as F"
   ]
  },
  {
   "cell_type": "code",
   "execution_count": 2,
   "metadata": {},
   "outputs": [],
   "source": [
    "class DoubleBlock(nn.Module):\n",
    "    '''(conv => BN => ReLU) * 2'''\n",
    "    def __init__(self, in_ch, out_ch):\n",
    "        super(DoubleBlock, self).__init__()\n",
    "\n",
    "        self.conv = nn.Sequential(\n",
    "            nn.Conv3d(in_ch, out_ch, 3, padding=1),\n",
    "            nn.BatchNorm3d(out_ch),\n",
    "            nn.ReLU(inplace=True),\n",
    "            nn.Conv3d(out_ch, out_ch, 3, padding=1),\n",
    "            nn.BatchNorm3d(out_ch),\n",
    "            nn.ReLU(inplace=True)\n",
    "        )\n",
    "\n",
    "    def forward(self, x):\n",
    "        return self.conv(x)"
   ]
  },
  {
   "cell_type": "code",
   "execution_count": 3,
   "metadata": {},
   "outputs": [],
   "source": [
    "class InConv(nn.Module):\n",
    "\n",
    "    def __init__(self, in_ch, out_ch):\n",
    "        super(InConv, self).__init__()\n",
    "        self.conv = DoubleBlock(in_ch, out_ch)\n",
    "\n",
    "    def forward(self, x):\n",
    "        return self.conv(x)"
   ]
  },
  {
   "cell_type": "code",
   "execution_count": 4,
   "metadata": {},
   "outputs": [],
   "source": [
    "class Down(nn.Module):\n",
    "\n",
    "    def __init__(self, in_ch, out_ch):\n",
    "        super(Down, self).__init__()\n",
    "        self.block = DoubleBlock(in_ch, out_ch)\n",
    "        self.pool = nn.MaxPool3d(2, return_indices=True)\n",
    "\n",
    "    def forward(self, x):\n",
    "        x = self.block(x)\n",
    "        x, indices = self.pool(x)\n",
    "        return x, indices"
   ]
  },
  {
   "cell_type": "code",
   "execution_count": 5,
   "metadata": {},
   "outputs": [],
   "source": [
    "class Up(nn.Module):\n",
    "\n",
    "    def __init__(self, in_ch, out_ch):\n",
    "        super(Up, self).__init__()\n",
    "        self.block = DoubleBlock(in_ch, out_ch)\n",
    "        self.unpool = nn.MaxUnpool3d(2)\n",
    "\n",
    "    def forward(self, x, indices):\n",
    "        x = self.unpool(x, indices)\n",
    "        x = self.block(x)\n",
    "        return x"
   ]
  },
  {
   "cell_type": "code",
   "execution_count": 6,
   "metadata": {},
   "outputs": [],
   "source": [
    "class UpShape(nn.Module):\n",
    "\n",
    "    def __init__(self, in_ch, out_ch):\n",
    "        super(UpShape, self).__init__()\n",
    "        self.block = DoubleBlock(in_ch, out_ch)\n",
    "        self.unpool = nn.MaxUnpool3d(2)\n",
    "\n",
    "    def forward(self, x, indices, output_size):\n",
    "        x = self.unpool(x, indices, output_size)\n",
    "        x = self.block(x)\n",
    "        return x"
   ]
  },
  {
   "cell_type": "code",
   "execution_count": 7,
   "metadata": {},
   "outputs": [],
   "source": [
    "class OutConv(nn.Module):\n",
    "\n",
    "    def __init__(self, in_ch, out_ch):\n",
    "        super(OutConv, self).__init__()\n",
    "        self.conv = nn.Conv3d(in_ch, out_ch, 1)\n",
    "\n",
    "    def forward(self, x):\n",
    "        return self.conv(x)"
   ]
  },
  {
   "cell_type": "markdown",
   "metadata": {},
   "source": [
    "### Random Input"
   ]
  },
  {
   "cell_type": "code",
   "execution_count": 8,
   "metadata": {},
   "outputs": [],
   "source": [
    "img = torch.randn(1, 1, 50, 128, 128)"
   ]
  },
  {
   "cell_type": "markdown",
   "metadata": {},
   "source": [
    "### Start of the Model"
   ]
  },
  {
   "cell_type": "code",
   "execution_count": 91,
   "metadata": {},
   "outputs": [],
   "source": [
    "class Start(nn.Module):\n",
    "    \n",
    "    def __init__(self, n_channels, n_classes):\n",
    "        super(Start, self).__init__()\n",
    "        self.inconv = InConv(n_channels, 2)\n",
    "        self.down1 = Down(2, 4)\n",
    "        \n",
    "    def forward(self, x):\n",
    "        x = self.inconv(x)\n",
    "        x1, indices1 = self.down1(x)\n",
    "        return x1, indices1"
   ]
  },
  {
   "cell_type": "code",
   "execution_count": 92,
   "metadata": {},
   "outputs": [],
   "source": [
    "start = Start(1, 2)"
   ]
  },
  {
   "cell_type": "code",
   "execution_count": 93,
   "metadata": {},
   "outputs": [],
   "source": [
    "x1, indices1 = start(img)"
   ]
  },
  {
   "cell_type": "code",
   "execution_count": 94,
   "metadata": {},
   "outputs": [
    {
     "name": "stdout",
     "output_type": "stream",
     "text": [
      "x1 shape: torch.Size([1, 4, 25, 64, 64])\n",
      "indices1 shape: torch.Size([1, 4, 25, 64, 64])\n"
     ]
    }
   ],
   "source": [
    "print(f'x1 shape: {x1.shape}')\n",
    "print(f'indices1 shape: {indices1.shape}')"
   ]
  },
  {
   "cell_type": "markdown",
   "metadata": {},
   "source": [
    "### Nan0Unet: InConv -> Down -> Up -> OutConv"
   ]
  },
  {
   "cell_type": "markdown",
   "metadata": {},
   "source": [
    "#### Working model - sans unpooling output_size"
   ]
  },
  {
   "cell_type": "code",
   "execution_count": 9,
   "metadata": {},
   "outputs": [],
   "source": [
    "class NanoUnet(nn.Module):\n",
    "    \n",
    "    def __init__(self, n_channels, n_classes):\n",
    "        super(NanoUnet, self).__init__()\n",
    "        self.inconv = InConv(n_channels, 2)\n",
    "        self.down = Down(2, 4)\n",
    "        self.up = Up(4, 2)\n",
    "        self.outconv = OutConv(2, n_classes)\n",
    "        \n",
    "        \n",
    "    def forward(self, x):\n",
    "        x = self.inconv(x)\n",
    "        x, indices = self.down(x)\n",
    "        x = self.up(x, indices)\n",
    "        x = self.outconv(x)\n",
    "        return x"
   ]
  },
  {
   "cell_type": "code",
   "execution_count": 10,
   "metadata": {},
   "outputs": [],
   "source": [
    "nanonet = NanoUnet(1, 2)"
   ]
  },
  {
   "cell_type": "code",
   "execution_count": 11,
   "metadata": {},
   "outputs": [],
   "source": [
    "out_nano = nanonet(img)"
   ]
  },
  {
   "cell_type": "code",
   "execution_count": 12,
   "metadata": {},
   "outputs": [
    {
     "data": {
      "text/plain": [
       "torch.Size([1, 2, 50, 128, 128])"
      ]
     },
     "execution_count": 12,
     "metadata": {},
     "output_type": "execute_result"
    }
   ],
   "source": [
    "out_nano.shape"
   ]
  },
  {
   "cell_type": "markdown",
   "metadata": {},
   "source": [
    "#### Model - avec unpooling output_size"
   ]
  },
  {
   "cell_type": "code",
   "execution_count": 13,
   "metadata": {},
   "outputs": [],
   "source": [
    "class NanoUnetShape(nn.Module):\n",
    "    \n",
    "    def __init__(self, n_channels, n_classes):\n",
    "        super(NanoUnetShape, self).__init__()\n",
    "        self.inconv = InConv(n_channels, 2)\n",
    "        self.down = Down(2, 4)\n",
    "        self.up = UpShape(4, 2)\n",
    "        self.outconv = OutConv(2, n_classes)\n",
    "        \n",
    "        \n",
    "    def forward(self, x):\n",
    "        print(f'x shape: {x.shape}')\n",
    "        x1 = self.inconv(x)\n",
    "        print(f'x1 shape: {x1.shape}')\n",
    "        x2, indices = self.down(x1)\n",
    "        print(f'x2 shape: {x2.shape}')\n",
    "        x3 = self.up(x2, indices, x.shape) # why x.shape here and not x1.shape?\n",
    "        x4 = self.outconv(x3)\n",
    "        return x4"
   ]
  },
  {
   "cell_type": "code",
   "execution_count": 14,
   "metadata": {},
   "outputs": [],
   "source": [
    "nanonet2 = NanoUnetShape(1, 2)"
   ]
  },
  {
   "cell_type": "code",
   "execution_count": 15,
   "metadata": {},
   "outputs": [
    {
     "name": "stdout",
     "output_type": "stream",
     "text": [
      "x shape: torch.Size([1, 1, 50, 128, 128])\n",
      "x1 shape: torch.Size([1, 2, 50, 128, 128])\n",
      "x2 shape: torch.Size([1, 4, 25, 64, 64])\n"
     ]
    }
   ],
   "source": [
    "out_nano2 = nanonet2(img)"
   ]
  },
  {
   "cell_type": "code",
   "execution_count": 16,
   "metadata": {},
   "outputs": [
    {
     "data": {
      "text/plain": [
       "torch.Size([1, 2, 50, 128, 128])"
      ]
     },
     "execution_count": 16,
     "metadata": {},
     "output_type": "execute_result"
    }
   ],
   "source": [
    "out_nano2.shape"
   ]
  },
  {
   "cell_type": "markdown",
   "metadata": {},
   "source": [
    "### MicroUnet: InConv -> Down -> Down -> Up -> Up -> OutConv"
   ]
  },
  {
   "cell_type": "markdown",
   "metadata": {},
   "source": []
  },
  {
   "cell_type": "code",
   "execution_count": 26,
   "metadata": {},
   "outputs": [],
   "source": [
    "class MicroUnet(nn.Module):\n",
    "    \n",
    "    def __init__(self, n_channels, n_classes):\n",
    "        super(MicroUnet, self).__init__()\n",
    "        self.inconv = InConv(n_channels, 2)\n",
    "        self.down1 = Down(2, 4)\n",
    "        self.down2 = Down(4, 8)\n",
    "        self.up1 = UpShape(8, 4)\n",
    "        self.up2 = UpShape(4, 2)\n",
    "        self.outconv = OutConv(2, n_classes)\n",
    "        \n",
    "        \n",
    "    def forward(self, x):\n",
    "        x1 = self.inconv(x)\n",
    "        x2, indices1 = self.down1(x1)\n",
    "        x3, indices2 = self.down2(x2)\n",
    "        \n",
    "        # temprint\n",
    "        print(f'x shape: {x.size()}')\n",
    "        print(f'x1 shape: {x1.size()}')\n",
    "        print(f'x2 shape: {x2.size()}')\n",
    "        print(f'x3 shape: {x3.size()}')\n",
    "        \n",
    "        x4 = self.up1(x3, indices2, x2.size())\n",
    "        x5 = self.up2(x4, indices1, x1.size())\n",
    "        x6 = self.outconv(x5)\n",
    "        return x6"
   ]
  },
  {
   "cell_type": "code",
   "execution_count": 27,
   "metadata": {},
   "outputs": [],
   "source": [
    "micronet = MicroUnet(1,2)"
   ]
  },
  {
   "cell_type": "code",
   "execution_count": 28,
   "metadata": {},
   "outputs": [
    {
     "name": "stdout",
     "output_type": "stream",
     "text": [
      "x shape: torch.Size([1, 1, 50, 128, 128])\n",
      "x1 shape: torch.Size([1, 2, 50, 128, 128])\n",
      "x2 shape: torch.Size([1, 4, 25, 64, 64])\n",
      "x3 shape: torch.Size([1, 8, 12, 32, 32])\n",
      "success\n"
     ]
    }
   ],
   "source": [
    "out = micronet(img)"
   ]
  },
  {
   "cell_type": "code",
   "execution_count": 29,
   "metadata": {},
   "outputs": [
    {
     "data": {
      "text/plain": [
       "torch.Size([1, 2, 50, 128, 128])"
      ]
     },
     "execution_count": 29,
     "metadata": {},
     "output_type": "execute_result"
    }
   ],
   "source": [
    "out.shape"
   ]
  },
  {
   "cell_type": "code",
   "execution_count": 38,
   "metadata": {},
   "outputs": [],
   "source": [
    "class CMUnet(nn.Module):\n",
    "    \"\"\"Centimeters, not CMU.\"\"\"\n",
    "    def __init__(self, n_channels, n_classes):\n",
    "        super(CMUnet, self).__init__()\n",
    "        self.inconv = InConv(n_channels, 2)\n",
    "        self.down1 = Down(2, 4)\n",
    "        self.down2 = Down(4, 8)\n",
    "        self.down3 = Down(8, 16)\n",
    "        self.up1 = UpShape(16, 8)\n",
    "        self.up2 = UpShape(8, 4)\n",
    "        self.up3 = UpShape(4, 2)\n",
    "        self.outconv = OutConv(2, n_classes)\n",
    "        \n",
    "        \n",
    "    def forward(self, x):\n",
    "        x1 = self.inconv(x)\n",
    "        x2, indices1 = self.down1(x1)\n",
    "        x3, indices2 = self.down2(x2)\n",
    "        x4, indices3 = self.down3(x3)\n",
    "        \n",
    "        # temprint\n",
    "        print(f'x shape:  {x.size()}')\n",
    "        print(f'x1 shape: {x1.size()}')\n",
    "        print(f'x2 shape: {x2.size()}')\n",
    "        print(f'x3 shape: {x3.size()}')\n",
    "        print(f'x4 shape: {x4.size()}')\n",
    "        \n",
    "        x5 = self.up1(x4, indices3, x3.size())\n",
    "        x6 = self.up2(x5, indices2, x2.size())\n",
    "        x7 = self.up3(x6, indices1, x1.size())\n",
    "        x7 = self.outconv(x7)\n",
    "        return x7"
   ]
  },
  {
   "cell_type": "code",
   "execution_count": 39,
   "metadata": {},
   "outputs": [],
   "source": [
    "cmunet = CMUnet(1, 2)"
   ]
  },
  {
   "cell_type": "code",
   "execution_count": 40,
   "metadata": {},
   "outputs": [
    {
     "name": "stdout",
     "output_type": "stream",
     "text": [
      "x shape:  torch.Size([1, 1, 50, 128, 128])\n",
      "x1 shape: torch.Size([1, 2, 50, 128, 128])\n",
      "x2 shape: torch.Size([1, 4, 25, 64, 64])\n",
      "x3 shape: torch.Size([1, 8, 12, 32, 32])\n",
      "x4 shape: torch.Size([1, 16, 6, 16, 16])\n"
     ]
    }
   ],
   "source": [
    "out = cmunet(img)"
   ]
  },
  {
   "cell_type": "code",
   "execution_count": 41,
   "metadata": {},
   "outputs": [
    {
     "data": {
      "text/plain": [
       "torch.Size([1, 2, 50, 128, 128])"
      ]
     },
     "execution_count": 41,
     "metadata": {},
     "output_type": "execute_result"
    }
   ],
   "source": [
    "out.shape"
   ]
  },
  {
   "cell_type": "code",
   "execution_count": null,
   "metadata": {},
   "outputs": [],
   "source": []
  }
 ],
 "metadata": {
  "kernelspec": {
   "display_name": "Python 3",
   "language": "python",
   "name": "python3"
  },
  "language_info": {
   "codemirror_mode": {
    "name": "ipython",
    "version": 3
   },
   "file_extension": ".py",
   "mimetype": "text/x-python",
   "name": "python",
   "nbconvert_exporter": "python",
   "pygments_lexer": "ipython3",
   "version": "3.7.1"
  }
 },
 "nbformat": 4,
 "nbformat_minor": 2
}
